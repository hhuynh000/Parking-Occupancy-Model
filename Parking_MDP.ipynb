{
 "cells": [
  {
   "cell_type": "markdown",
   "id": "b426aaf2-9253-4f3f-96ff-690774b1b10b",
   "metadata": {},
   "source": [
    "## Imports"
   ]
  },
  {
   "cell_type": "code",
   "execution_count": 1,
   "id": "c0f90fdf-9bca-4e67-911d-ec6646466e15",
   "metadata": {},
   "outputs": [],
   "source": [
    "import pandas as pd\n",
    "import numpy as np\n",
    "import matplotlib.pyplot as plt\n",
    "from sklearn import kernel_ridge\n",
    "from sklearn.model_selection import train_test_split\n",
    "from sklearn.mixture import GaussianMixture\n",
    "from sklearn.decomposition import PCA\n",
    "from tqdm import tqdm\n",
    "from sklearn.cluster import KMeans\n",
    "import MDP as mdp"
   ]
  },
  {
   "cell_type": "markdown",
   "id": "962d2771-33aa-4ac5-9b6b-e06e4c952f60",
   "metadata": {},
   "source": [
    "## Read Data"
   ]
  },
  {
   "cell_type": "code",
   "execution_count": 2,
   "id": "6aa6ca49-1ceb-41d5-800a-80d3a7b0f5d3",
   "metadata": {},
   "outputs": [],
   "source": [
    "naive_occ_df = pd.read_csv('./data/sdot_12_naive.csv')\n",
    "gt_occ_df = pd.read_csv('./data/sdot_12_gt.csv')"
   ]
  },
  {
   "cell_type": "code",
   "execution_count": 3,
   "id": "59e1e02f-4170-4213-b067-f0d6c15aa0a3",
   "metadata": {},
   "outputs": [
    {
     "data": {
      "text/html": [
       "<div>\n",
       "<style scoped>\n",
       "    .dataframe tbody tr th:only-of-type {\n",
       "        vertical-align: middle;\n",
       "    }\n",
       "\n",
       "    .dataframe tbody tr th {\n",
       "        vertical-align: top;\n",
       "    }\n",
       "\n",
       "    .dataframe thead th {\n",
       "        text-align: right;\n",
       "    }\n",
       "</style>\n",
       "<table border=\"1\" class=\"dataframe\">\n",
       "  <thead>\n",
       "    <tr style=\"text-align: right;\">\n",
       "      <th></th>\n",
       "      <th>sourceelementkey</th>\n",
       "      <th>date</th>\n",
       "      <th>hour</th>\n",
       "      <th>paidoccupancy</th>\n",
       "    </tr>\n",
       "  </thead>\n",
       "  <tbody>\n",
       "    <tr>\n",
       "      <th>0</th>\n",
       "      <td>1013</td>\n",
       "      <td>2022-04-29</td>\n",
       "      <td>8</td>\n",
       "      <td>0.25</td>\n",
       "    </tr>\n",
       "    <tr>\n",
       "      <th>1</th>\n",
       "      <td>1013</td>\n",
       "      <td>2022-04-29</td>\n",
       "      <td>9</td>\n",
       "      <td>0.25</td>\n",
       "    </tr>\n",
       "    <tr>\n",
       "      <th>2</th>\n",
       "      <td>1013</td>\n",
       "      <td>2022-04-29</td>\n",
       "      <td>10</td>\n",
       "      <td>0.50</td>\n",
       "    </tr>\n",
       "    <tr>\n",
       "      <th>3</th>\n",
       "      <td>1013</td>\n",
       "      <td>2022-04-29</td>\n",
       "      <td>11</td>\n",
       "      <td>0.00</td>\n",
       "    </tr>\n",
       "    <tr>\n",
       "      <th>4</th>\n",
       "      <td>1013</td>\n",
       "      <td>2022-04-29</td>\n",
       "      <td>12</td>\n",
       "      <td>0.25</td>\n",
       "    </tr>\n",
       "  </tbody>\n",
       "</table>\n",
       "</div>"
      ],
      "text/plain": [
       "   sourceelementkey        date  hour  paidoccupancy\n",
       "0              1013  2022-04-29     8           0.25\n",
       "1              1013  2022-04-29     9           0.25\n",
       "2              1013  2022-04-29    10           0.50\n",
       "3              1013  2022-04-29    11           0.00\n",
       "4              1013  2022-04-29    12           0.25"
      ]
     },
     "execution_count": 3,
     "metadata": {},
     "output_type": "execute_result"
    }
   ],
   "source": [
    "naive_occ_df.head()"
   ]
  },
  {
   "cell_type": "code",
   "execution_count": 4,
   "id": "531084cb-a9b9-45ce-9f55-e23bdf148c53",
   "metadata": {},
   "outputs": [
    {
     "data": {
      "text/html": [
       "<div>\n",
       "<style scoped>\n",
       "    .dataframe tbody tr th:only-of-type {\n",
       "        vertical-align: middle;\n",
       "    }\n",
       "\n",
       "    .dataframe tbody tr th {\n",
       "        vertical-align: top;\n",
       "    }\n",
       "\n",
       "    .dataframe thead th {\n",
       "        text-align: right;\n",
       "    }\n",
       "</style>\n",
       "<table border=\"1\" class=\"dataframe\">\n",
       "  <thead>\n",
       "    <tr style=\"text-align: right;\">\n",
       "      <th></th>\n",
       "      <th>sourceelementkey</th>\n",
       "      <th>date</th>\n",
       "      <th>hour</th>\n",
       "      <th>paidoccupancy</th>\n",
       "    </tr>\n",
       "  </thead>\n",
       "  <tbody>\n",
       "    <tr>\n",
       "      <th>0</th>\n",
       "      <td>1013</td>\n",
       "      <td>2022-04-29</td>\n",
       "      <td>8</td>\n",
       "      <td>0.50</td>\n",
       "    </tr>\n",
       "    <tr>\n",
       "      <th>1</th>\n",
       "      <td>1013</td>\n",
       "      <td>2022-04-29</td>\n",
       "      <td>9</td>\n",
       "      <td>0.00</td>\n",
       "    </tr>\n",
       "    <tr>\n",
       "      <th>2</th>\n",
       "      <td>1013</td>\n",
       "      <td>2022-04-29</td>\n",
       "      <td>10</td>\n",
       "      <td>0.25</td>\n",
       "    </tr>\n",
       "    <tr>\n",
       "      <th>3</th>\n",
       "      <td>1013</td>\n",
       "      <td>2022-04-29</td>\n",
       "      <td>11</td>\n",
       "      <td>0.00</td>\n",
       "    </tr>\n",
       "    <tr>\n",
       "      <th>4</th>\n",
       "      <td>1013</td>\n",
       "      <td>2022-04-29</td>\n",
       "      <td>12</td>\n",
       "      <td>0.25</td>\n",
       "    </tr>\n",
       "  </tbody>\n",
       "</table>\n",
       "</div>"
      ],
      "text/plain": [
       "   sourceelementkey        date  hour  paidoccupancy\n",
       "0              1013  2022-04-29     8           0.50\n",
       "1              1013  2022-04-29     9           0.00\n",
       "2              1013  2022-04-29    10           0.25\n",
       "3              1013  2022-04-29    11           0.00\n",
       "4              1013  2022-04-29    12           0.25"
      ]
     },
     "execution_count": 4,
     "metadata": {},
     "output_type": "execute_result"
    }
   ],
   "source": [
    "gt_occ_df.head()"
   ]
  },
  {
   "cell_type": "code",
   "execution_count": 5,
   "id": "f8c771be-fa4c-4ec3-a732-0224eeb1f4ea",
   "metadata": {},
   "outputs": [
    {
     "name": "stdout",
     "output_type": "stream",
     "text": [
      "Naive occupancy size: (596, 12)\n"
     ]
    }
   ],
   "source": [
    "naive_occ = np.array(naive_occ_df['paidoccupancy'].tolist())\n",
    "n = naive_occ.shape[0]\n",
    "naive_occ = naive_occ.reshape((int(n/12), 12))\n",
    "print('Naive occupancy size:', naive_occ.shape)"
   ]
  },
  {
   "cell_type": "code",
   "execution_count": 6,
   "id": "56fd4b06-775d-46d6-b1ea-beb6dfa099d7",
   "metadata": {},
   "outputs": [
    {
     "name": "stdout",
     "output_type": "stream",
     "text": [
      "Ground truth occupancy size: (596, 12)\n"
     ]
    }
   ],
   "source": [
    "gt_occ = np.array(gt_occ_df['paidoccupancy'].tolist())\n",
    "n = gt_occ.shape[0]\n",
    "gt_occ = gt_occ.reshape((int(n/12), 12))\n",
    "print('Ground truth occupancy size:', gt_occ.shape)"
   ]
  },
  {
   "cell_type": "markdown",
   "id": "188f79cc-372a-4026-8f5a-085ecaeaa8c9",
   "metadata": {},
   "source": [
    "## Preprocess Data"
   ]
  },
  {
   "cell_type": "code",
   "execution_count": 7,
   "id": "1cfd90d1-3e38-412a-af35-6a0afa44975a",
   "metadata": {},
   "outputs": [],
   "source": [
    "test_ratio = 0.9"
   ]
  },
  {
   "cell_type": "code",
   "execution_count": 8,
   "id": "b24639f2-034f-4107-a763-3acb9c6dea8b",
   "metadata": {},
   "outputs": [],
   "source": [
    "x_train, x_test, y_train, y_test = train_test_split(naive_occ, gt_occ, test_size=test_ratio)"
   ]
  },
  {
   "cell_type": "code",
   "execution_count": 9,
   "id": "d780b090-1a78-40ca-bc34-295d0d78fcd5",
   "metadata": {},
   "outputs": [
    {
     "name": "stdout",
     "output_type": "stream",
     "text": [
      "Training Data Size: 59\n",
      "Testing Data Size: 537\n"
     ]
    }
   ],
   "source": [
    "print('Training Data Size:', len(x_train))\n",
    "print('Testing Data Size:', len(x_test))"
   ]
  },
  {
   "cell_type": "markdown",
   "id": "dc1b35ef-064a-473b-bc8e-6df5c305a7fa",
   "metadata": {},
   "source": [
    "## Clustering"
   ]
  },
  {
   "cell_type": "code",
   "execution_count": 10,
   "id": "df2d0ef8-9531-424d-9cb7-f1bba2c7b445",
   "metadata": {},
   "outputs": [],
   "source": [
    "def group_data(n, X, Y, clusters):\n",
    "    x_bins = [[] for _ in range(n)]\n",
    "    y_bins = [[] for _ in range(n)]\n",
    "    for i, cluster in enumerate(clusters):\n",
    "        x_bins[cluster].append(X[i])\n",
    "        y_bins[cluster].append(Y[i])\n",
    "    return x_bins, y_bins"
   ]
  },
  {
   "cell_type": "code",
   "execution_count": 11,
   "id": "492938f4-d601-46a0-aab2-90b57c82f096",
   "metadata": {},
   "outputs": [],
   "source": [
    "n_clusters = 3\n",
    "#gm = GaussianMixture(n_components=n_clusters).fit(x_train)\n",
    "#clusters = gm.predict(x_train)\n",
    "kmeans = KMeans(n_clusters, n_init='auto')\n",
    "kmeans.fit(x_train)\n",
    "clusters = kmeans.predict(x_train)\n",
    "x_bins, y_bins = group_data(n_clusters, x_train, y_train, clusters)"
   ]
  },
  {
   "cell_type": "code",
   "execution_count": 12,
   "id": "bc340fe1-9c08-4bcf-be0c-61d8e2972e96",
   "metadata": {},
   "outputs": [
    {
     "data": {
      "text/html": [
       "<style>#sk-container-id-1 {color: black;background-color: white;}#sk-container-id-1 pre{padding: 0;}#sk-container-id-1 div.sk-toggleable {background-color: white;}#sk-container-id-1 label.sk-toggleable__label {cursor: pointer;display: block;width: 100%;margin-bottom: 0;padding: 0.3em;box-sizing: border-box;text-align: center;}#sk-container-id-1 label.sk-toggleable__label-arrow:before {content: \"▸\";float: left;margin-right: 0.25em;color: #696969;}#sk-container-id-1 label.sk-toggleable__label-arrow:hover:before {color: black;}#sk-container-id-1 div.sk-estimator:hover label.sk-toggleable__label-arrow:before {color: black;}#sk-container-id-1 div.sk-toggleable__content {max-height: 0;max-width: 0;overflow: hidden;text-align: left;background-color: #f0f8ff;}#sk-container-id-1 div.sk-toggleable__content pre {margin: 0.2em;color: black;border-radius: 0.25em;background-color: #f0f8ff;}#sk-container-id-1 input.sk-toggleable__control:checked~div.sk-toggleable__content {max-height: 200px;max-width: 100%;overflow: auto;}#sk-container-id-1 input.sk-toggleable__control:checked~label.sk-toggleable__label-arrow:before {content: \"▾\";}#sk-container-id-1 div.sk-estimator input.sk-toggleable__control:checked~label.sk-toggleable__label {background-color: #d4ebff;}#sk-container-id-1 div.sk-label input.sk-toggleable__control:checked~label.sk-toggleable__label {background-color: #d4ebff;}#sk-container-id-1 input.sk-hidden--visually {border: 0;clip: rect(1px 1px 1px 1px);clip: rect(1px, 1px, 1px, 1px);height: 1px;margin: -1px;overflow: hidden;padding: 0;position: absolute;width: 1px;}#sk-container-id-1 div.sk-estimator {font-family: monospace;background-color: #f0f8ff;border: 1px dotted black;border-radius: 0.25em;box-sizing: border-box;margin-bottom: 0.5em;}#sk-container-id-1 div.sk-estimator:hover {background-color: #d4ebff;}#sk-container-id-1 div.sk-parallel-item::after {content: \"\";width: 100%;border-bottom: 1px solid gray;flex-grow: 1;}#sk-container-id-1 div.sk-label:hover label.sk-toggleable__label {background-color: #d4ebff;}#sk-container-id-1 div.sk-serial::before {content: \"\";position: absolute;border-left: 1px solid gray;box-sizing: border-box;top: 0;bottom: 0;left: 50%;z-index: 0;}#sk-container-id-1 div.sk-serial {display: flex;flex-direction: column;align-items: center;background-color: white;padding-right: 0.2em;padding-left: 0.2em;position: relative;}#sk-container-id-1 div.sk-item {position: relative;z-index: 1;}#sk-container-id-1 div.sk-parallel {display: flex;align-items: stretch;justify-content: center;background-color: white;position: relative;}#sk-container-id-1 div.sk-item::before, #sk-container-id-1 div.sk-parallel-item::before {content: \"\";position: absolute;border-left: 1px solid gray;box-sizing: border-box;top: 0;bottom: 0;left: 50%;z-index: -1;}#sk-container-id-1 div.sk-parallel-item {display: flex;flex-direction: column;z-index: 1;position: relative;background-color: white;}#sk-container-id-1 div.sk-parallel-item:first-child::after {align-self: flex-end;width: 50%;}#sk-container-id-1 div.sk-parallel-item:last-child::after {align-self: flex-start;width: 50%;}#sk-container-id-1 div.sk-parallel-item:only-child::after {width: 0;}#sk-container-id-1 div.sk-dashed-wrapped {border: 1px dashed gray;margin: 0 0.4em 0.5em 0.4em;box-sizing: border-box;padding-bottom: 0.4em;background-color: white;}#sk-container-id-1 div.sk-label label {font-family: monospace;font-weight: bold;display: inline-block;line-height: 1.2em;}#sk-container-id-1 div.sk-label-container {text-align: center;}#sk-container-id-1 div.sk-container {/* jupyter's `normalize.less` sets `[hidden] { display: none; }` but bootstrap.min.css set `[hidden] { display: none !important; }` so we also need the `!important` here to be able to override the default hidden behavior on the sphinx rendered scikit-learn.org. See: https://github.com/scikit-learn/scikit-learn/issues/21755 */display: inline-block !important;position: relative;}#sk-container-id-1 div.sk-text-repr-fallback {display: none;}</style><div id=\"sk-container-id-1\" class=\"sk-top-container\"><div class=\"sk-text-repr-fallback\"><pre>PCA(n_components=2)</pre><b>In a Jupyter environment, please rerun this cell to show the HTML representation or trust the notebook. <br />On GitHub, the HTML representation is unable to render, please try loading this page with nbviewer.org.</b></div><div class=\"sk-container\" hidden><div class=\"sk-item\"><div class=\"sk-estimator sk-toggleable\"><input class=\"sk-toggleable__control sk-hidden--visually\" id=\"sk-estimator-id-1\" type=\"checkbox\" checked><label for=\"sk-estimator-id-1\" class=\"sk-toggleable__label sk-toggleable__label-arrow\">PCA</label><div class=\"sk-toggleable__content\"><pre>PCA(n_components=2)</pre></div></div></div></div></div>"
      ],
      "text/plain": [
       "PCA(n_components=2)"
      ]
     },
     "execution_count": 12,
     "metadata": {},
     "output_type": "execute_result"
    }
   ],
   "source": [
    "# To visualize the data use PCA to reduce dimension to 2 and plot scatter plot\n",
    "pca = PCA(n_components=2)\n",
    "pca.fit(x_train)"
   ]
  },
  {
   "cell_type": "code",
   "execution_count": 13,
   "id": "edd3a611-fba4-45ed-a174-808c2d170060",
   "metadata": {},
   "outputs": [
    {
     "data": {
      "image/png": "[encoded data removed]",
      "text/plain": [
       "<Figure size 800x600 with 1 Axes>"
      ]
     },
     "metadata": {},
     "output_type": "display_data"
    }
   ],
   "source": [
    "colors = ['b', 'g', 'r', 'm']\n",
    "plt.figure(figsize=(8,6))\n",
    "for i, cluster in enumerate(x_bins):\n",
    "    for point in cluster:\n",
    "        pca_2d = pca.transform(point.reshape((1,-1)))\n",
    "        plt.scatter(pca_2d[0,0], pca_2d[0,1], color=colors[i])\n",
    "plt.title(\"Naive Parking Occupancy Clusters\", fontsize=20)\n",
    "plt.ylabel(\"Principle Component 2\", fontsize=15)\n",
    "plt.xlabel(\"Principle Component 1\", fontsize=15)\n",
    "plt.show()"
   ]
  },
  {
   "cell_type": "markdown",
   "id": "57affe99-aa07-4c20-ab59-6c51c8ca773e",
   "metadata": {},
   "source": [
    "## Base Case Test"
   ]
  },
  {
   "cell_type": "code",
   "execution_count": 14,
   "id": "c1de1b3e-36c6-4383-851c-e76c90f0871e",
   "metadata": {},
   "outputs": [],
   "source": [
    "lambda_val = 0.001\n",
    "gamma = 0.0001\n",
    "rrg = kernel_ridge.KernelRidge(alpha=lambda_val, kernel='rbf', gamma=gamma)"
   ]
  },
  {
   "cell_type": "code",
   "execution_count": 15,
   "id": "67bbd9ea-3e5d-48ce-b808-46c166f02dae",
   "metadata": {},
   "outputs": [
    {
     "name": "stdout",
     "output_type": "stream",
     "text": [
      "Base Case Accuracy: 0.7275060663264012\n"
     ]
    }
   ],
   "source": [
    "rrg.fit(x_train, y_train)\n",
    "y_pred = rrg.predict(x_test)\n",
    "mae = np.mean(np.abs(y_test-y_pred))\n",
    "print('Base Case Accuracy:', 1-mae)"
   ]
  },
  {
   "cell_type": "code",
   "execution_count": 16,
   "id": "0432945e-0426-490a-9fe1-aa1417817cfc",
   "metadata": {},
   "outputs": [
    {
     "name": "stdout",
     "output_type": "stream",
     "text": [
      "Base Case Accuracy: 0.6948932228045464\n"
     ]
    }
   ],
   "source": [
    "mae = np.mean(np.abs(y_test-x_test))\n",
    "print('Base Case Accuracy:', 1-mae)"
   ]
  },
  {
   "cell_type": "markdown",
   "id": "e57d7e05-47d6-4351-a308-a109697e3660",
   "metadata": {},
   "source": [
    "## MDP"
   ]
  },
  {
   "cell_type": "code",
   "execution_count": 17,
   "id": "2e928467-423e-4f30-8a76-4772068a3e92",
   "metadata": {},
   "outputs": [
    {
     "name": "stdout",
     "output_type": "stream",
     "text": [
      "max bins: [20, 20, 19]\n"
     ]
    }
   ],
   "source": [
    "train_data = (x_bins, y_bins)\n",
    "test_data = (x_test, y_test)\n",
    "max_bins = [len(x_bins[i]) for i in range(n_clusters)]\n",
    "print('max bins:', max_bins)"
   ]
  },
  {
   "cell_type": "code",
   "execution_count": 24,
   "id": "dcb76a4b-a2f5-40aa-879b-53130ba521bf",
   "metadata": {},
   "outputs": [],
   "source": [
    "model = mdp.BanditMDP(train_data, test_data, max_bins, lambda_val, gamma)\n",
    "samples = 20\n",
    "model.set_goal(samples)"
   ]
  },
  {
   "cell_type": "code",
   "execution_count": 25,
   "id": "8c3ccfa4-48c3-4984-b376-206c2cca6ac5",
   "metadata": {},
   "outputs": [
    {
     "name": "stderr",
     "output_type": "stream",
     "text": [
      "100%|███████████████████████████| 10000000/10000000 [01:19<00:00, 125850.22it/s]\n"
     ]
    }
   ],
   "source": [
    "n_iteration = 10000000\n",
    "for i in tqdm(range(n_iteration)):\n",
    "    model.run_iteration()"
   ]
  },
  {
   "cell_type": "code",
   "execution_count": 26,
   "id": "d082e0e7-be48-4e2c-aabf-543b4da75857",
   "metadata": {},
   "outputs": [
    {
     "name": "stdout",
     "output_type": "stream",
     "text": [
      "curr_state [0, 0, 0]\n",
      "action: 1\n",
      "curr_state [1, 0, 0]\n",
      "action: 1\n",
      "curr_state [2, 0, 0]\n",
      "action: 2\n",
      "curr_state [2, 1, 0]\n",
      "action: 2\n",
      "curr_state [2, 2, 0]\n",
      "action: 2\n",
      "curr_state [2, 3, 0]\n",
      "action: 2\n",
      "curr_state [2, 4, 0]\n",
      "action: 2\n",
      "curr_state [2, 5, 0]\n",
      "action: 2\n",
      "curr_state [2, 6, 0]\n",
      "action: 2\n",
      "curr_state [2, 7, 0]\n",
      "action: 2\n",
      "curr_state [2, 8, 0]\n",
      "action: 2\n",
      "curr_state [2, 9, 0]\n",
      "action: 2\n",
      "curr_state [2, 10, 0]\n",
      "action: 2\n",
      "curr_state [2, 11, 0]\n",
      "action: 2\n",
      "curr_state [2, 12, 0]\n",
      "action: 2\n",
      "curr_state [2, 13, 0]\n",
      "action: 2\n",
      "curr_state [2, 14, 0]\n",
      "action: 2\n",
      "curr_state [2, 15, 0]\n",
      "action: 2\n",
      "curr_state [2, 16, 0]\n",
      "action: 2\n",
      "curr_state [2, 17, 0]\n",
      "action: 3\n",
      "Solution State [2, 17, 1]\n",
      "Accuracy 0.7295043378529886\n"
     ]
    }
   ],
   "source": [
    "sol = model.get_solution()"
   ]
  },
  {
   "cell_type": "code",
   "execution_count": 31,
   "id": "e7a980cd-6576-4f71-a059-724dbbb8a93d",
   "metadata": {},
   "outputs": [
    {
     "name": "stdout",
     "output_type": "stream",
     "text": [
      "[1 0]\n"
     ]
    }
   ],
   "source": [
    "index = np.argsort(sol)[::-1][:2]\n",
    "print(index)"
   ]
  },
  {
   "cell_type": "code",
   "execution_count": 32,
   "id": "3d4e7189-b3dc-4f7c-a108-fe4ba33d0ecc",
   "metadata": {},
   "outputs": [
    {
     "name": "stdout",
     "output_type": "stream",
     "text": [
      "Base Case Accuracy: 0.7363584746434709\n"
     ]
    }
   ],
   "source": [
    "rlx_train = np.concatenate((x_bins[index[0]], x_bins[index[1]]))\n",
    "rly_train = np.concatenate((y_bins[index[0]], y_bins[index[1]]))\n",
    "rrg.fit(rlx_train, rly_train)\n",
    "y_pred = rrg.predict(x_test)\n",
    "mae = np.mean(np.abs(y_test-y_pred))\n",
    "print('Base Case Accuracy:', 1-mae)"
   ]
  },
  {
   "cell_type": "code",
   "execution_count": null,
   "id": "68ea386c-30ea-44ca-8d2d-d45ddc07379d",
   "metadata": {},
   "outputs": [],
   "source": []
  }
 ],
 "metadata": {
  "kernelspec": {
   "display_name": "Python 3 (ipykernel)",
   "language": "python",
   "name": "python3"
  },
  "language_info": {
   "codemirror_mode": {
    "name": "ipython",
    "version": 3
   },
   "file_extension": ".py",
   "mimetype": "text/x-python",
   "name": "python",
   "nbconvert_exporter": "python",
   "pygments_lexer": "ipython3",
   "version": "3.8.17"
  }
 },
 "nbformat": 4,
 "nbformat_minor": 5
}
