{
 "cells": [
  {
   "cell_type": "markdown",
   "id": "81ad4917-fd54-4375-8cd1-bb76e868bc16",
   "metadata": {},
   "source": [
    "## Setup"
   ]
  },
  {
   "cell_type": "code",
   "execution_count": 1,
   "id": "1222fea9-fd70-4198-8165-d26382094c3d",
   "metadata": {},
   "outputs": [
    {
     "name": "stderr",
     "output_type": "stream",
     "text": [
      "WARNING:root:Requests made without an app_token will be subject to strict throttling limits.\n"
     ]
    }
   ],
   "source": [
    "import pandas as pd\n",
    "from sodapy import Socrata\n",
    "import numpy as np\n",
    "from tqdm import tqdm\n",
    "\n",
    "# Unauthenticated client only works with public data sets. Note 'None'\n",
    "# in place of application token, and no username or password:\n",
    "client = Socrata(\"data.seattle.gov\", None)\n",
    "\n",
    "# Read corresponding sdot blocks between 08-18 from ground truth data\n",
    "block_data = pd.read_csv('data/sdot_12.csv')"
   ]
  },
  {
   "cell_type": "code",
   "execution_count": 2,
   "id": "efdacee8-1f75-459e-87c8-656cb958cc89",
   "metadata": {},
   "outputs": [],
   "source": [
    "def run_query(client, data_id, element_key, date):\n",
    "    query = \"select occupancydatetime, paidoccupancy, sourceelementkey, parkingspacecount where sourceelementkey = \" + str(element_key) + \" and occupancydatetime between '\" + str(date) + \"T08:00:00' and '\" + str(date) + \"T19:59:00'\"\n",
    "    results = client.get(data_id, query=query)\n",
    "    return results"
   ]
  },
  {
   "cell_type": "markdown",
   "id": "7cdf968d-fec9-4121-a6dd-e05d2e760d7e",
   "metadata": {},
   "source": [
    "## Query data from Seattle Open Data API"
   ]
  },
  {
   "cell_type": "code",
   "execution_count": null,
   "id": "63a64536-56a8-4938-b369-164a91c71ca1",
   "metadata": {},
   "outputs": [],
   "source": [
    "query_results = [run_query(client, \"bwk6-iycu\", element_key, date) for element_key, date in zip(tqdm(block_data['sourceelementkey']), block_data['Date'])]"
   ]
  },
  {
   "cell_type": "markdown",
   "id": "541e5d33-e970-4561-a667-6a2ae9ded4c3",
   "metadata": {},
   "source": [
    "## Filter blocks datetime pair that does not have full 08-18 period"
   ]
  },
  {
   "cell_type": "code",
   "execution_count": null,
   "id": "8a068bf0-3a7b-4925-81b2-f774fcdfa4aa",
   "metadata": {},
   "outputs": [],
   "source": [
    "occ = pd.DataFrame()\n",
    "remove = pd.DataFrame()\n",
    "for group in query_results:\n",
    "    if len(group) == 720:\n",
    "        df = pd.DataFrame.from_records(group)\n",
    "        occ = pd.concat([occ, df])"
   ]
  },
  {
   "cell_type": "code",
   "execution_count": null,
   "id": "7bbb2420-56e7-430f-b83a-e3efc5f67ad0",
   "metadata": {},
   "outputs": [],
   "source": [
    "occ[\"occupancydatetime\"] = pd.to_datetime(occ[\"occupancydatetime\"], format=\"%Y-%m-%dT%X.000\")"
   ]
  },
  {
   "cell_type": "code",
   "execution_count": null,
   "id": "b72f8631-05c4-48e5-8b6f-5934d22fbbc2",
   "metadata": {},
   "outputs": [],
   "source": [
    "occ.to_csv(\"data/sdot_12_raw.csv\",index=False)"
   ]
  },
  {
   "cell_type": "code",
   "execution_count": 3,
   "id": "79dca205-bfae-44c2-8d51-b63a4c2834b1",
   "metadata": {},
   "outputs": [],
   "source": [
    "sdot_raw = pd.read_csv('data/sdot_12_raw.csv')"
   ]
  },
  {
   "cell_type": "markdown",
   "id": "6edde5b7-5fbd-4887-872b-546ba33b7d2f",
   "metadata": {},
   "source": [
    "## Get each block parking capacity"
   ]
  },
  {
   "cell_type": "code",
   "execution_count": 4,
   "id": "9626265f-379a-4517-a396-20f96878abbf",
   "metadata": {},
   "outputs": [],
   "source": [
    "sdot_raw[\"occupancydatetime\"] = pd.to_datetime(sdot_raw[\"occupancydatetime\"], format=\"%Y-%m-%d %X\")"
   ]
  },
  {
   "cell_type": "code",
   "execution_count": 5,
   "id": "efb208aa-76f2-459d-8005-7939131b8078",
   "metadata": {},
   "outputs": [],
   "source": [
    "naive_occ = sdot_raw.groupby([\"sourceelementkey\", sdot_raw[\"occupancydatetime\"].dt.date, sdot_raw[\"occupancydatetime\"].dt.hour, \"parkingspacecount\"])[\"paidoccupancy\"].agg(lambda x: pd.Series.mode(x)[0]).reset_index(allow_duplicates=True)"
   ]
  },
  {
   "cell_type": "code",
   "execution_count": 8,
   "id": "009cf62d-3d98-4a23-9104-d8821777a6cc",
   "metadata": {},
   "outputs": [
    {
     "data": {
      "text/html": [
       "<div>\n",
       "<style scoped>\n",
       "    .dataframe tbody tr th:only-of-type {\n",
       "        vertical-align: middle;\n",
       "    }\n",
       "\n",
       "    .dataframe tbody tr th {\n",
       "        vertical-align: top;\n",
       "    }\n",
       "\n",
       "    .dataframe thead th {\n",
       "        text-align: right;\n",
       "    }\n",
       "</style>\n",
       "<table border=\"1\" class=\"dataframe\">\n",
       "  <thead>\n",
       "    <tr style=\"text-align: right;\">\n",
       "      <th></th>\n",
       "      <th>sourceelementkey</th>\n",
       "      <th>parkingspacecount</th>\n",
       "    </tr>\n",
       "  </thead>\n",
       "  <tbody>\n",
       "    <tr>\n",
       "      <th>0</th>\n",
       "      <td>1013</td>\n",
       "      <td>4</td>\n",
       "    </tr>\n",
       "    <tr>\n",
       "      <th>1</th>\n",
       "      <td>1021</td>\n",
       "      <td>9</td>\n",
       "    </tr>\n",
       "    <tr>\n",
       "      <th>2</th>\n",
       "      <td>1022</td>\n",
       "      <td>9</td>\n",
       "    </tr>\n",
       "    <tr>\n",
       "      <th>3</th>\n",
       "      <td>1037</td>\n",
       "      <td>12</td>\n",
       "    </tr>\n",
       "    <tr>\n",
       "      <th>4</th>\n",
       "      <td>1277</td>\n",
       "      <td>9</td>\n",
       "    </tr>\n",
       "    <tr>\n",
       "      <th>...</th>\n",
       "      <td>...</td>\n",
       "      <td>...</td>\n",
       "    </tr>\n",
       "    <tr>\n",
       "      <th>485</th>\n",
       "      <td>123744</td>\n",
       "      <td>4</td>\n",
       "    </tr>\n",
       "    <tr>\n",
       "      <th>486</th>\n",
       "      <td>123942</td>\n",
       "      <td>5</td>\n",
       "    </tr>\n",
       "    <tr>\n",
       "      <th>487</th>\n",
       "      <td>123943</td>\n",
       "      <td>10</td>\n",
       "    </tr>\n",
       "    <tr>\n",
       "      <th>488</th>\n",
       "      <td>131238</td>\n",
       "      <td>2</td>\n",
       "    </tr>\n",
       "    <tr>\n",
       "      <th>489</th>\n",
       "      <td>136322</td>\n",
       "      <td>7</td>\n",
       "    </tr>\n",
       "  </tbody>\n",
       "</table>\n",
       "<p>490 rows × 2 columns</p>\n",
       "</div>"
      ],
      "text/plain": [
       "     sourceelementkey  parkingspacecount\n",
       "0                1013                  4\n",
       "1                1021                  9\n",
       "2                1022                  9\n",
       "3                1037                 12\n",
       "4                1277                  9\n",
       "..                ...                ...\n",
       "485            123744                  4\n",
       "486            123942                  5\n",
       "487            123943                 10\n",
       "488            131238                  2\n",
       "489            136322                  7\n",
       "\n",
       "[490 rows x 2 columns]"
      ]
     },
     "execution_count": 8,
     "metadata": {},
     "output_type": "execute_result"
    }
   ],
   "source": [
    "naive_occ[\"paidoccupancy\"] = naive_occ[\"paidoccupancy\"].astype(int)/naive_occ[\"parkingspacecount\"].astype(int)\n",
    "cap = naive_occ[[\"sourceelementkey\", \"parkingspacecount\"]]\n",
    "cap = cap.drop_duplicates()\n",
    "cap = cap.reset_index(drop=True)\n",
    "cap"
   ]
  },
  {
   "cell_type": "code",
   "execution_count": 9,
   "id": "2ef0f82f-1954-4980-985c-c3496a2a3e78",
   "metadata": {},
   "outputs": [],
   "source": [
    "# write to csv file\n",
    "cap.to_csv(\"data/sdot_12_cap.csv\",index=False)"
   ]
  },
  {
   "cell_type": "code",
   "execution_count": 10,
   "id": "02649638-336b-44c6-b721-8fb599323b83",
   "metadata": {},
   "outputs": [],
   "source": [
    "naive_occ = naive_occ.drop(\"parkingspacecount\", axis=\"columns\")\n",
    "naive_occ.columns = [naive_occ.columns[0], \"date\", \"hour\", naive_occ.columns[3]]"
   ]
  },
  {
   "cell_type": "code",
   "execution_count": 11,
   "id": "b22e8971-9833-41e2-b953-ec703306454f",
   "metadata": {},
   "outputs": [
    {
     "data": {
      "text/html": [
       "<div>\n",
       "<style scoped>\n",
       "    .dataframe tbody tr th:only-of-type {\n",
       "        vertical-align: middle;\n",
       "    }\n",
       "\n",
       "    .dataframe tbody tr th {\n",
       "        vertical-align: top;\n",
       "    }\n",
       "\n",
       "    .dataframe thead th {\n",
       "        text-align: right;\n",
       "    }\n",
       "</style>\n",
       "<table border=\"1\" class=\"dataframe\">\n",
       "  <thead>\n",
       "    <tr style=\"text-align: right;\">\n",
       "      <th></th>\n",
       "      <th>sourceelementkey</th>\n",
       "      <th>date</th>\n",
       "      <th>hour</th>\n",
       "      <th>paidoccupancy</th>\n",
       "    </tr>\n",
       "  </thead>\n",
       "  <tbody>\n",
       "    <tr>\n",
       "      <th>0</th>\n",
       "      <td>1013</td>\n",
       "      <td>2022-04-29</td>\n",
       "      <td>8</td>\n",
       "      <td>0.0</td>\n",
       "    </tr>\n",
       "    <tr>\n",
       "      <th>1</th>\n",
       "      <td>1013</td>\n",
       "      <td>2022-04-29</td>\n",
       "      <td>9</td>\n",
       "      <td>0.0</td>\n",
       "    </tr>\n",
       "    <tr>\n",
       "      <th>2</th>\n",
       "      <td>1013</td>\n",
       "      <td>2022-04-29</td>\n",
       "      <td>10</td>\n",
       "      <td>0.0</td>\n",
       "    </tr>\n",
       "    <tr>\n",
       "      <th>3</th>\n",
       "      <td>1013</td>\n",
       "      <td>2022-04-29</td>\n",
       "      <td>11</td>\n",
       "      <td>0.0</td>\n",
       "    </tr>\n",
       "    <tr>\n",
       "      <th>4</th>\n",
       "      <td>1013</td>\n",
       "      <td>2022-04-29</td>\n",
       "      <td>12</td>\n",
       "      <td>0.0</td>\n",
       "    </tr>\n",
       "    <tr>\n",
       "      <th>...</th>\n",
       "      <td>...</td>\n",
       "      <td>...</td>\n",
       "      <td>...</td>\n",
       "      <td>...</td>\n",
       "    </tr>\n",
       "    <tr>\n",
       "      <th>7147</th>\n",
       "      <td>136322</td>\n",
       "      <td>2022-04-27</td>\n",
       "      <td>15</td>\n",
       "      <td>0.0</td>\n",
       "    </tr>\n",
       "    <tr>\n",
       "      <th>7148</th>\n",
       "      <td>136322</td>\n",
       "      <td>2022-04-27</td>\n",
       "      <td>16</td>\n",
       "      <td>0.0</td>\n",
       "    </tr>\n",
       "    <tr>\n",
       "      <th>7149</th>\n",
       "      <td>136322</td>\n",
       "      <td>2022-04-27</td>\n",
       "      <td>17</td>\n",
       "      <td>0.0</td>\n",
       "    </tr>\n",
       "    <tr>\n",
       "      <th>7150</th>\n",
       "      <td>136322</td>\n",
       "      <td>2022-04-27</td>\n",
       "      <td>18</td>\n",
       "      <td>0.0</td>\n",
       "    </tr>\n",
       "    <tr>\n",
       "      <th>7151</th>\n",
       "      <td>136322</td>\n",
       "      <td>2022-04-27</td>\n",
       "      <td>19</td>\n",
       "      <td>0.0</td>\n",
       "    </tr>\n",
       "  </tbody>\n",
       "</table>\n",
       "<p>7152 rows × 4 columns</p>\n",
       "</div>"
      ],
      "text/plain": [
       "      sourceelementkey        date  hour  paidoccupancy\n",
       "0                 1013  2022-04-29     8            0.0\n",
       "1                 1013  2022-04-29     9            0.0\n",
       "2                 1013  2022-04-29    10            0.0\n",
       "3                 1013  2022-04-29    11            0.0\n",
       "4                 1013  2022-04-29    12            0.0\n",
       "...                ...         ...   ...            ...\n",
       "7147            136322  2022-04-27    15            0.0\n",
       "7148            136322  2022-04-27    16            0.0\n",
       "7149            136322  2022-04-27    17            0.0\n",
       "7150            136322  2022-04-27    18            0.0\n",
       "7151            136322  2022-04-27    19            0.0\n",
       "\n",
       "[7152 rows x 4 columns]"
      ]
     },
     "execution_count": 11,
     "metadata": {},
     "output_type": "execute_result"
    }
   ],
   "source": [
    "naive_occ"
   ]
  },
  {
   "cell_type": "code",
   "execution_count": null,
   "id": "44845d66-5a5c-4da4-a3f3-c9309b2a1b2d",
   "metadata": {},
   "outputs": [],
   "source": [
    "naive_occ.to_csv(\"data/sdot_12_naive.csv\",index=False)"
   ]
  },
  {
   "cell_type": "code",
   "execution_count": null,
   "id": "583adedf-19e7-4b6d-8f43-b0b30213c1c6",
   "metadata": {},
   "outputs": [],
   "source": [
    "id = naive_occ.drop_duplicates(subset=[\"date\", \"sourceelementkey\"], keep=\"first\")"
   ]
  },
  {
   "cell_type": "code",
   "execution_count": null,
   "id": "272730dc-b461-4c06-8ce6-109f38aff826",
   "metadata": {},
   "outputs": [],
   "source": [
    "id"
   ]
  },
  {
   "cell_type": "code",
   "execution_count": null,
   "id": "dd9f3514-b450-455b-a68a-f71e8f366bb1",
   "metadata": {},
   "outputs": [],
   "source": []
  }
 ],
 "metadata": {
  "kernelspec": {
   "display_name": "Python 3 (ipykernel)",
   "language": "python",
   "name": "python3"
  },
  "language_info": {
   "codemirror_mode": {
    "name": "ipython",
    "version": 3
   },
   "file_extension": ".py",
   "mimetype": "text/x-python",
   "name": "python",
   "nbconvert_exporter": "python",
   "pygments_lexer": "ipython3",
   "version": "3.8.17"
  }
 },
 "nbformat": 4,
 "nbformat_minor": 5
}
