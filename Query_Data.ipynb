{
 "cells": [
  {
   "cell_type": "markdown",
   "id": "81ad4917-fd54-4375-8cd1-bb76e868bc16",
   "metadata": {},
   "source": [
    "## Setup"
   ]
  },
  {
   "cell_type": "code",
   "execution_count": 20,
   "id": "1222fea9-fd70-4198-8165-d26382094c3d",
   "metadata": {},
   "outputs": [
    {
     "name": "stderr",
     "output_type": "stream",
     "text": [
      "WARNING:root:Requests made without an app_token will be subject to strict throttling limits.\n"
     ]
    }
   ],
   "source": [
    "import pandas as pd\n",
    "from sodapy import Socrata\n",
    "import numpy as np\n",
    "from tqdm import tqdm\n",
    "\n",
    "# Unauthenticated client only works with public data sets. Note 'None'\n",
    "# in place of application token, and no username or password:\n",
    "client = Socrata(\"data.seattle.gov\", None)\n",
    "\n",
    "# Read corresponding sdot blocks between 08-18 from ground truth data\n",
    "block_data = pd.read_csv('data/sdot_12.csv')"
   ]
  },
  {
   "cell_type": "code",
   "execution_count": 59,
   "id": "efdacee8-1f75-459e-87c8-656cb958cc89",
   "metadata": {},
   "outputs": [],
   "source": [
    "def run_query(client, data_id, element_key, date):\n",
    "    query = \"select occupancydatetime, paidoccupancy, sourceelementkey, parkingspacecount where sourceelementkey = \" + str(element_key) + \" and occupancydatetime between '\" + str(date) + \"T08:00:00' and '\" + str(date) + \"T19:59:00'\"\n",
    "    results = client.get(data_id, query=query)\n",
    "    return results"
   ]
  },
  {
   "cell_type": "markdown",
   "id": "7cdf968d-fec9-4121-a6dd-e05d2e760d7e",
   "metadata": {},
   "source": [
    "## Query data from Seattle Open Data API"
   ]
  },
  {
   "cell_type": "code",
   "execution_count": 131,
   "id": "63a64536-56a8-4938-b369-164a91c71ca1",
   "metadata": {},
   "outputs": [
    {
     "name": "stderr",
     "output_type": "stream",
     "text": [
      "100%|████████████████████████████████████████████████████████████████████████████████| 803/803 [03:25<00:00,  3.92it/s]\n"
     ]
    }
   ],
   "source": [
    "query_results = [run_query(client, \"bwk6-iycu\", element_key, date) for element_key, date in zip(tqdm(block_data['Element Key']), block_data['Date'])]"
   ]
  },
  {
   "cell_type": "markdown",
   "id": "541e5d33-e970-4561-a667-6a2ae9ded4c3",
   "metadata": {},
   "source": [
    "## Filter blocks datetime pair that does not have full 08-18 period"
   ]
  },
  {
   "cell_type": "code",
   "execution_count": 261,
   "id": "8a068bf0-3a7b-4925-81b2-f774fcdfa4aa",
   "metadata": {},
   "outputs": [],
   "source": [
    "occ = pd.DataFrame()\n",
    "for group in query_results:\n",
    "    if len(group) == 720:\n",
    "        df = pd.DataFrame.from_records(group)\n",
    "        occ = pd.concat([occ, df])"
   ]
  },
  {
   "cell_type": "code",
   "execution_count": 262,
   "id": "7bbb2420-56e7-430f-b83a-e3efc5f67ad0",
   "metadata": {},
   "outputs": [],
   "source": [
    "occ[\"occupancydatetime\"] = pd.to_datetime(occ[\"occupancydatetime\"], format=\"%Y-%m-%dT%X.000\")"
   ]
  },
  {
   "cell_type": "markdown",
   "id": "6edde5b7-5fbd-4887-872b-546ba33b7d2f",
   "metadata": {},
   "source": [
    "## Get each block parking capacity"
   ]
  },
  {
   "cell_type": "code",
   "execution_count": 248,
   "id": "09053419-35f7-498d-b8e7-39f9b5cfd714",
   "metadata": {},
   "outputs": [
    {
     "data": {
      "text/html": [
       "<div>\n",
       "<style scoped>\n",
       "    .dataframe tbody tr th:only-of-type {\n",
       "        vertical-align: middle;\n",
       "    }\n",
       "\n",
       "    .dataframe tbody tr th {\n",
       "        vertical-align: top;\n",
       "    }\n",
       "\n",
       "    .dataframe thead th {\n",
       "        text-align: right;\n",
       "    }\n",
       "</style>\n",
       "<table border=\"1\" class=\"dataframe\">\n",
       "  <thead>\n",
       "    <tr style=\"text-align: right;\">\n",
       "      <th></th>\n",
       "      <th>sourceelementkey</th>\n",
       "      <th>parkingspacecount</th>\n",
       "    </tr>\n",
       "  </thead>\n",
       "  <tbody>\n",
       "    <tr>\n",
       "      <th>0</th>\n",
       "      <td>1013</td>\n",
       "      <td>4</td>\n",
       "    </tr>\n",
       "    <tr>\n",
       "      <th>0</th>\n",
       "      <td>1021</td>\n",
       "      <td>9</td>\n",
       "    </tr>\n",
       "    <tr>\n",
       "      <th>0</th>\n",
       "      <td>1022</td>\n",
       "      <td>9</td>\n",
       "    </tr>\n",
       "    <tr>\n",
       "      <th>0</th>\n",
       "      <td>1037</td>\n",
       "      <td>12</td>\n",
       "    </tr>\n",
       "    <tr>\n",
       "      <th>0</th>\n",
       "      <td>1277</td>\n",
       "      <td>9</td>\n",
       "    </tr>\n",
       "  </tbody>\n",
       "</table>\n",
       "</div>"
      ],
      "text/plain": [
       "  sourceelementkey parkingspacecount\n",
       "0             1013                 4\n",
       "0             1021                 9\n",
       "0             1022                 9\n",
       "0             1037                12\n",
       "0             1277                 9"
      ]
     },
     "execution_count": 248,
     "metadata": {},
     "output_type": "execute_result"
    }
   ],
   "source": [
    "cap = occ[[\"sourceelementkey\", \"parkingspacecount\"]]\n",
    "cap = cap.drop_duplicates()\n",
    "cap.head()"
   ]
  },
  {
   "cell_type": "code",
   "execution_count": 249,
   "id": "02fadb73-0d77-4599-b2ad-a489967ba410",
   "metadata": {},
   "outputs": [],
   "source": [
    "# write to csv file\n",
    "# cap.to_csv(\"data/sdot_12_cap.csv\",index=False)"
   ]
  },
  {
   "cell_type": "code",
   "execution_count": 252,
   "id": "9626265f-379a-4517-a396-20f96878abbf",
   "metadata": {},
   "outputs": [],
   "source": [
    "#occ_p = occ.drop(\"parkingspacecount\", axis=\"columns\")\n",
    "occ_p = occ\n",
    "#naive_occ = occ.groupby([occ[\"occupancydatetime\"].dt.hour, \"sourceelementkey\"])[\"paidoccupancy\"].agg(lambda x: pd.Series.mode(x)[0])"
   ]
  },
  {
   "cell_type": "code",
   "execution_count": 253,
   "id": "efb208aa-76f2-459d-8005-7939131b8078",
   "metadata": {},
   "outputs": [],
   "source": [
    "naive_occ = occ_p.groupby([\"sourceelementkey\", occ_p[\"occupancydatetime\"].dt.hour, \"parkingspacecount\"])[\"paidoccupancy\"].agg(lambda x: pd.Series.mode(x)[0])"
   ]
  },
  {
   "cell_type": "code",
   "execution_count": 273,
   "id": "009cf62d-3d98-4a23-9104-d8821777a6cc",
   "metadata": {},
   "outputs": [
    {
     "data": {
      "text/html": [
       "<div>\n",
       "<style scoped>\n",
       "    .dataframe tbody tr th:only-of-type {\n",
       "        vertical-align: middle;\n",
       "    }\n",
       "\n",
       "    .dataframe tbody tr th {\n",
       "        vertical-align: top;\n",
       "    }\n",
       "\n",
       "    .dataframe thead th {\n",
       "        text-align: right;\n",
       "    }\n",
       "</style>\n",
       "<table border=\"1\" class=\"dataframe\">\n",
       "  <thead>\n",
       "    <tr style=\"text-align: right;\">\n",
       "      <th></th>\n",
       "      <th>sourceelementkey</th>\n",
       "      <th>hour</th>\n",
       "      <th>paidoccupancy</th>\n",
       "    </tr>\n",
       "  </thead>\n",
       "  <tbody>\n",
       "    <tr>\n",
       "      <th>0</th>\n",
       "      <td>1013</td>\n",
       "      <td>8</td>\n",
       "      <td>0.25</td>\n",
       "    </tr>\n",
       "    <tr>\n",
       "      <th>1</th>\n",
       "      <td>1013</td>\n",
       "      <td>9</td>\n",
       "      <td>0.75</td>\n",
       "    </tr>\n",
       "    <tr>\n",
       "      <th>2</th>\n",
       "      <td>1013</td>\n",
       "      <td>10</td>\n",
       "      <td>0.50</td>\n",
       "    </tr>\n",
       "    <tr>\n",
       "      <th>3</th>\n",
       "      <td>1013</td>\n",
       "      <td>11</td>\n",
       "      <td>0.50</td>\n",
       "    </tr>\n",
       "    <tr>\n",
       "      <th>4</th>\n",
       "      <td>1013</td>\n",
       "      <td>12</td>\n",
       "      <td>0.25</td>\n",
       "    </tr>\n",
       "  </tbody>\n",
       "</table>\n",
       "</div>"
      ],
      "text/plain": [
       "  sourceelementkey  hour  paidoccupancy\n",
       "0             1013     8           0.25\n",
       "1             1013     9           0.75\n",
       "2             1013    10           0.50\n",
       "3             1013    11           0.50\n",
       "4             1013    12           0.25"
      ]
     },
     "execution_count": 273,
     "metadata": {},
     "output_type": "execute_result"
    }
   ],
   "source": [
    "naive_df = pd.DataFrame(naive_occ)\n",
    "naive_df = naive_df.reset_index()\n",
    "naive_df[\"paidoccupancy\"] = naive_df[\"paidoccupancy\"].astype(int)/naive_df[\"parkingspacecount\"].astype(int)\n",
    "naive_df = naive_df.drop(\"parkingspacecount\", axis=\"columns\")\n",
    "naive_df = naive_df.rename(columns={\"occupancydatetime\": \"hour\"})\n",
    "naive_df.head()"
   ]
  },
  {
   "cell_type": "code",
   "execution_count": 274,
   "id": "70bb75e4-61ac-4bb2-b9c0-50624c220421",
   "metadata": {},
   "outputs": [
    {
     "data": {
      "text/html": [
       "<div>\n",
       "<style scoped>\n",
       "    .dataframe tbody tr th:only-of-type {\n",
       "        vertical-align: middle;\n",
       "    }\n",
       "\n",
       "    .dataframe tbody tr th {\n",
       "        vertical-align: top;\n",
       "    }\n",
       "\n",
       "    .dataframe thead th {\n",
       "        text-align: right;\n",
       "    }\n",
       "</style>\n",
       "<table border=\"1\" class=\"dataframe\">\n",
       "  <thead>\n",
       "    <tr style=\"text-align: right;\">\n",
       "      <th></th>\n",
       "      <th>sourceelementkey</th>\n",
       "      <th>hour</th>\n",
       "      <th>paidoccupancy</th>\n",
       "    </tr>\n",
       "  </thead>\n",
       "  <tbody>\n",
       "    <tr>\n",
       "      <th>12</th>\n",
       "      <td>1021</td>\n",
       "      <td>8</td>\n",
       "      <td>0.555556</td>\n",
       "    </tr>\n",
       "    <tr>\n",
       "      <th>13</th>\n",
       "      <td>1021</td>\n",
       "      <td>9</td>\n",
       "      <td>0.555556</td>\n",
       "    </tr>\n",
       "    <tr>\n",
       "      <th>14</th>\n",
       "      <td>1021</td>\n",
       "      <td>10</td>\n",
       "      <td>0.222222</td>\n",
       "    </tr>\n",
       "    <tr>\n",
       "      <th>15</th>\n",
       "      <td>1021</td>\n",
       "      <td>11</td>\n",
       "      <td>0.222222</td>\n",
       "    </tr>\n",
       "    <tr>\n",
       "      <th>16</th>\n",
       "      <td>1021</td>\n",
       "      <td>12</td>\n",
       "      <td>0.444444</td>\n",
       "    </tr>\n",
       "    <tr>\n",
       "      <th>17</th>\n",
       "      <td>1021</td>\n",
       "      <td>13</td>\n",
       "      <td>0.888889</td>\n",
       "    </tr>\n",
       "    <tr>\n",
       "      <th>18</th>\n",
       "      <td>1021</td>\n",
       "      <td>14</td>\n",
       "      <td>0.888889</td>\n",
       "    </tr>\n",
       "    <tr>\n",
       "      <th>19</th>\n",
       "      <td>1021</td>\n",
       "      <td>15</td>\n",
       "      <td>0.666667</td>\n",
       "    </tr>\n",
       "    <tr>\n",
       "      <th>20</th>\n",
       "      <td>1021</td>\n",
       "      <td>16</td>\n",
       "      <td>0.888889</td>\n",
       "    </tr>\n",
       "    <tr>\n",
       "      <th>21</th>\n",
       "      <td>1021</td>\n",
       "      <td>17</td>\n",
       "      <td>0.888889</td>\n",
       "    </tr>\n",
       "    <tr>\n",
       "      <th>22</th>\n",
       "      <td>1021</td>\n",
       "      <td>18</td>\n",
       "      <td>0.333333</td>\n",
       "    </tr>\n",
       "    <tr>\n",
       "      <th>23</th>\n",
       "      <td>1021</td>\n",
       "      <td>19</td>\n",
       "      <td>0.555556</td>\n",
       "    </tr>\n",
       "  </tbody>\n",
       "</table>\n",
       "</div>"
      ],
      "text/plain": [
       "   sourceelementkey  hour  paidoccupancy\n",
       "12             1021     8       0.555556\n",
       "13             1021     9       0.555556\n",
       "14             1021    10       0.222222\n",
       "15             1021    11       0.222222\n",
       "16             1021    12       0.444444\n",
       "17             1021    13       0.888889\n",
       "18             1021    14       0.888889\n",
       "19             1021    15       0.666667\n",
       "20             1021    16       0.888889\n",
       "21             1021    17       0.888889\n",
       "22             1021    18       0.333333\n",
       "23             1021    19       0.555556"
      ]
     },
     "execution_count": 274,
     "metadata": {},
     "output_type": "execute_result"
    }
   ],
   "source": [
    "naive_df.loc[naive_df[\"sourceelementkey\"] == \"1021\"]"
   ]
  },
  {
   "cell_type": "code",
   "execution_count": 236,
   "id": "aef0991a-5d8c-4b92-bf6f-1eff59fdf38f",
   "metadata": {},
   "outputs": [
    {
     "data": {
      "text/plain": [
       "('1013', 8)"
      ]
     },
     "execution_count": 236,
     "metadata": {},
     "output_type": "execute_result"
    }
   ],
   "source": [
    "naive_df.index[0]"
   ]
  },
  {
   "cell_type": "code",
   "execution_count": null,
   "id": "dde7745e-05a1-43f7-9ec8-21f530052ef7",
   "metadata": {},
   "outputs": [],
   "source": []
  }
 ],
 "metadata": {
  "kernelspec": {
   "display_name": "Python 3 (ipykernel)",
   "language": "python",
   "name": "python3"
  },
  "language_info": {
   "codemirror_mode": {
    "name": "ipython",
    "version": 3
   },
   "file_extension": ".py",
   "mimetype": "text/x-python",
   "name": "python",
   "nbconvert_exporter": "python",
   "pygments_lexer": "ipython3",
   "version": "3.8.16"
  }
 },
 "nbformat": 4,
 "nbformat_minor": 5
}
